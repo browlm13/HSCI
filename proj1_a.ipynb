{
 "cells": [
  {
   "cell_type": "markdown",
   "metadata": {},
   "source": [
    "# Project 1 A"
   ]
  },
  {
   "cell_type": "markdown",
   "metadata": {},
   "source": [
    "Laurence Brown Fall 2016"
   ]
  },
  {
   "cell_type": "code",
   "execution_count": 17,
   "metadata": {
    "collapsed": false
   },
   "outputs": [
    {
     "name": "stdout",
     "output_type": "stream",
     "text": [
      "Populating the interactive namespace from numpy and matplotlib\n"
     ]
    }
   ],
   "source": [
    "%pylab inline"
   ]
  },
  {
   "cell_type": "markdown",
   "metadata": {},
   "source": [
    "## Part A Objective"
   ]
  },
  {
   "cell_type": "markdown",
   "metadata": {},
   "source": [
    "#### Approximate a Function by Truncated Maclaurin Polynomials."
   ]
  },
  {
   "cell_type": "markdown",
   "metadata": {},
   "source": [
    "In order to approximate the function  $f(x) = e^x$, I will use Truncated Maclaurin Polynomials of degree n. Where $n = {4,8,12}$. \n",
    "\n",
    "$$ P_n(x) \t\\approx \\, f(x) $$\n",
    "$$ lim_{n\\to\\infty} \\, of \\, P_n(x) \\, = \\, f(x) $$\n",
    "\n",
    "So the best approximation should be the highest value of n tested ($n = 12$). I will calculate the error using c++'s built in exponential function.\n",
    "\n",
    "$$ err_n = e^x - P_n(x) $$\n",
    "\n",
    "If it is true that $P_{12}(x)$ will result in the best approximation of the function $e^x$, then $err_{12}$ should result in the smallest value."
   ]
  },
  {
   "cell_type": "code",
   "execution_count": 20,
   "metadata": {
    "collapsed": false
   },
   "outputs": [
    {
     "ename": "SyntaxError",
     "evalue": "invalid syntax (<ipython-input-20-99b43c88a153>, line 13)",
     "output_type": "error",
     "traceback": [
      "\u001b[0;36m  File \u001b[0;32m\"<ipython-input-20-99b43c88a153>\"\u001b[0;36m, line \u001b[0;32m13\u001b[0m\n\u001b[0;31m    CXX = g++\u001b[0m\n\u001b[0m             ^\u001b[0m\n\u001b[0;31mSyntaxError\u001b[0m\u001b[0;31m:\u001b[0m invalid syntax\n"
     ]
    }
   ],
   "source": [
    "# %load Makefile\n",
    "# %load Makefile\n",
    "#############################################################\n",
    "######\n",
    "# Makefile for project 1\n",
    "# Laurence Brown\n",
    "# SMU Mathematics\n",
    "# Math 3316\n",
    "# 9/14/2015\n",
    "#############################################################\n",
    "######\n",
    "# compiler & flags\n",
    "CXX = g++\n",
    "CXXFLAGS = -O -std=c++0x\n",
    "# makefile targets\n",
    "#proj1_a.exe\t:\tproj1_a.cpp\n",
    "#proj1_b.exe\t:\tproj1_b.cpp\n",
    "\n",
    "all:\n",
    "\t$(CXX) $(CXXFLAGS) proj1_a.cpp -o proj1_a.exe\n",
    "\t$(CXX) $(CXXFLAGS) proj1_b.cpp -o proj1_b.exe\n",
    "\n",
    "clean :\n",
    "\trm -f *.exe *.txt\n",
    "####### End of Makefile #######"
   ]
  },
  {
   "cell_type": "code",
   "execution_count": 21,
   "metadata": {
    "collapsed": false
   },
   "outputs": [
    {
     "name": "stdout",
     "output_type": "stream",
     "text": [
      "#include <vector>\r\n",
      "#include <stdlib.h> /* abs */\r\n",
      "#include <cmath> /* pow */\r\n",
      "#include <iostream>\r\n",
      "#include <string>\r\n",
      "#include <fstream>\r\n",
      "\r\n",
      "using namespace std;\r\n",
      "\r\n",
      "\r\n",
      "//create a new vector of linearly space data\r\n",
      "std::vector<double> Linspace(double a, double b, size_t n){\r\n",
      "\tif (n<2) std::cerr << \"Linspace::length must be > 1\\n\";\r\n",
      "\tstd::vector<double> v(n);\r\n",
      "\t\r\n",
      "\tdouble h = (b-a)/(n-1);\r\n",
      "\tfor (size_t i=0; i<n; i++)\r\n",
      "\t \tv[i] = a + i*h;\r\n",
      "\r\n",
      "\treturn v;\r\n",
      "}\r\n",
      "\r\n",
      "//vector element wise subtraction function\r\n",
      "vector<double> sub(vector<double> a, vector<double> b){\r\n",
      "\tif (a.size() != b.size()) std::cerr << \"sub::vectors must be same sime\";\r\n",
      "\r\n",
      "\tvector<double> x;\r\n",
      "\t\r\n",
      "\tfor(size_t i=0; i<a.size(); i++)\r\n",
      "\t\tx.push_back(a[i]-b[i]);\r\n",
      "\t\r\n",
      "\treturn x;\r\n",
      "\r\n",
      "}\r\n",
      "\r\n",
      "//factorial function\r\n",
      "double factorial(size_t n){\r\n",
      "\t//n = abs(n);\r\n",
      "\tif (n < 1) return 1;\r\n",
      "\tdouble x=n;\r\n",
      "\tfor(size_t i=(n-1); i>1; i--)\r\n",
      "\t\tx *= i;\r\n",
      "\treturn x;\r\n",
      "}\r\n",
      "\r\n",
      "//nest function without use of matrix class\r\n",
      "double nest(std::vector<double> v, double x){\r\n",
      "\tif (v.size() == 0) std::cerr << \"nest::vector length must be > 0\";\r\n",
      "\tdouble p = v[0];\r\n",
      "\tfor(size_t i=1; i<v.size(); i++)\r\n",
      "\t \tp += (v[i] * pow(x,i));\r\n",
      "\treturn p;\r\n",
      "}\r\n",
      "\r\n",
      "std::vector<double> pn(size_t n, std::vector<double> z){\r\n",
      "\r\n",
      "\t//vector of answers from every trial\r\n",
      "\tvector<double> v(z);\r\n",
      "\r\n",
      "\t//generate a values\r\n",
      "\tstd::vector<double> a_v(n);\r\n",
      "\t\r\n",
      "\tfor(size_t i=0; i<n; i++)\r\n",
      "\t\ta_v[i] = (1/(factorial(i)));\r\n",
      "\t\r\n",
      "\t//fill andwers vector by running nest function on each z value\r\n",
      "\tfor( size_t i=0; i<z.size(); i++)\r\n",
      "\t\tv[i]=(nest(a_v, z[i]));\r\n",
      "\t\r\n",
      "\treturn v;\r\n",
      "}\r\n",
      "\r\n",
      "//c++'s exponential funciton\r\n",
      "std::vector<double> e(std::vector<double> z){\r\n",
      "\r\n",
      "\t//vector of answers from every trial\r\n",
      "\tvector<double> v(z);\r\n",
      "\r\n",
      "\t//fill anwers vector by running exp function on each z value\r\n",
      "\tfor( size_t i=0; i<z.size(); i++)\r\n",
      "\t\tv[i]=(double)exp(z[i]);\r\n",
      "\t\r\n",
      "\treturn v;\r\n",
      "}\r\n",
      "\r\n",
      "//find the error between two vectors\r\n",
      "std::vector<double> err(std::vector<double> a, std::vector<double> b){\r\n",
      "\tif (a.size() != b.size()) std::cerr << \"err::vectors must be same sime\";\r\n",
      "\tstd::vector<double> x = sub(a,b);\r\n",
      "\r\n",
      "\tfor(size_t i=0; i<a.size(); i++)\r\n",
      "\t\tx[i] = abs(x[i]);\r\n",
      "\t\r\n",
      "\treturn x;\r\n",
      "\r\n",
      "}\r\n",
      "\r\n",
      "//write a vector to a file\r\n",
      "int write(std::vector<double> v, const char *outfile) { \r\n",
      "\r\n",
      "  // open output file\r\n",
      "  FILE *fptr = NULL;\r\n",
      "  fptr = fopen(outfile, \"w\");\r\n",
      "  if (fptr == NULL) {\r\n",
      "    cerr << \"Write:: error, unable to open \" << outfile << \" for writing\\n\";\r\n",
      "    return 1;\r\n",
      "  }\r\n",
      "\r\n",
      "  // print data to file\r\n",
      "  for (size_t i=0; i<v.size(); i++) {\r\n",
      "      fprintf(fptr, \"  %.16g\", v[i]);\r\n",
      "  }\r\n",
      "\r\n",
      "  // close output file and return\r\n",
      "  fclose(fptr);\r\n",
      "  return 0;\r\n",
      "}\r\n",
      "\r\n",
      "\r\n",
      "//main function\r\n",
      "int main(){\r\n",
      "\t\r\n",
      "\r\n",
      "\t//create z\r\n",
      "\tsize_t size = 201;\r\n",
      "\tstd::vector<double> z = Linspace(-1.0, 1.0, size);\r\n",
      "\r\n",
      "\t//p4,p8,p12,e^x\r\n",
      "\tvector<double> p4 = pn(4,z);\r\n",
      "\tvector<double> p8 = pn(8,z);\r\n",
      "\tvector<double> p12 = pn(12,z);\r\n",
      "\tvector<double> f = e(z);\r\n",
      "\r\n",
      "\t//err4,err8,err12\r\n",
      "\tvector<double> err4 = err(f,p4);\r\n",
      "\tvector<double> err8 = err(f,p8);\r\n",
      "\tvector<double> err12 = err(f,p12);\r\n",
      "\t\r\n",
      "\r\n",
      "\t//write to files corresponding names\r\n",
      "\twrite(z, \"z.txt\");\r\n",
      "\twrite(p4, \"p4.txt\");\r\n",
      "\twrite(p8, \"p8.txt\");\r\n",
      "\twrite(p12, \"p12.txt\");\r\n",
      "\twrite(f, \"f.txt\");\r\n",
      "\twrite(err4, \"err4.txt\");\r\n",
      "\twrite(err8, \"err8.txt\");\r\n",
      "\twrite(err12, \"err12.txt\");\r\n",
      "\r\n",
      "\treturn 1;\r\n",
      "}\r\n"
     ]
    }
   ],
   "source": [
    "%cat proj1_a.cpp"
   ]
  },
  {
   "cell_type": "code",
   "execution_count": 22,
   "metadata": {
    "collapsed": false
   },
   "outputs": [],
   "source": [
    "z = loadtxt('z.txt')\n",
    "p4 = loadtxt('p4.txt')\n",
    "p8 = loadtxt('p8.txt')\n",
    "p12 = loadtxt('p12.txt')\n",
    "f = loadtxt('f.txt')\n",
    "err4 = loadtxt('err4.txt')\n",
    "err8 = loadtxt('err8.txt')\n",
    "err12 = loadtxt('err12.txt')"
   ]
  },
  {
   "cell_type": "code",
   "execution_count": 23,
   "metadata": {
    "collapsed": false
   },
   "outputs": [
    {
     "data": {
      "text/plain": [
       "<matplotlib.legend.Legend at 0x10dd9c898>"
      ]
     },
     "execution_count": 23,
     "metadata": {},
     "output_type": "execute_result"
    },
    {
     "data": {
      "image/png": "[encoded data removed]",
      "text/plain": [
       "<matplotlib.figure.Figure at 0x10d6322e8>"
      ]
     },
     "metadata": {},
     "output_type": "display_data"
    }
   ],
   "source": [
    "plot(z,p4,z,p8,z,p12,z,f)\n",
    "xlabel('x')\n",
    "ylabel('y')\n",
    "title('Truncated Taylor Polynomials')\n",
    "legend(('$P_4(x)$', '$P_8(x)$', '$P_12(x)$', '$f(x)$'))"
   ]
  },
  {
   "cell_type": "code",
   "execution_count": 24,
   "metadata": {
    "collapsed": false
   },
   "outputs": [
    {
     "data": {
      "text/plain": [
       "<matplotlib.legend.Legend at 0x10d357828>"
      ]
     },
     "execution_count": 24,
     "metadata": {},
     "output_type": "execute_result"
    },
    {
     "data": {
      "image/png": "[encoded data removed]",
      "text/plain": [
       "<matplotlib.figure.Figure at 0x10d77a438>"
      ]
     },
     "metadata": {},
     "output_type": "display_data"
    }
   ],
   "source": [
    "semilogy(z,err4,z,err8,z,err12)\n",
    "xlabel('x')\n",
    "ylabel('y')\n",
    "title('Error of Truncated Taylor Polynomials')\n",
    "legend(('$err_4(x)$', '$err_8(x)$', '$err_{12}(x)$'))"
   ]
  },
  {
   "cell_type": "markdown",
   "metadata": {},
   "source": [
    "## Part A Results"
   ]
  },
  {
   "cell_type": "markdown",
   "metadata": {},
   "source": [
    "The function \n",
    "    $f$(x) = $e^x$ \n",
    "is better approximated by \n",
    "    $P_n(x)$\n",
    "as n increases. \n",
    "\n",
    "So \n",
    "    $P_{12}(x)$ \n",
    "should be the best approximation, and this is what the results demonstrate.\n",
    "\n",
    "$$ f(x) = e^x $$\n",
    "$$ P_n(x) \t\\approx \\, f(x) $$\n",
    "$$ lim_{n\\to\\infty} \\, of \\, P_n(x) \\, = \\, f(x) $$\n",
    "\n",
    "\n",
    "$$ err_n = e^x - P_n(x) $$\n",
    "\n",
    "Since $ \\, lim_{n\\to\\infty} \\, of \\, P_n(x) \\, = \\, f(x) $, $\\,$ and $ \\, f(x) = e^x $ ,\n",
    "    \n",
    "$$ lim_{n\\to\\infty} \\, of \\,e^x - P_n(x) \\, = \\, 0 $$\n",
    "\n",
    "And therefore $ err_n = 0 $ as ${n\\to\\infty}$ .\n",
    "\n",
    "Then the function $err_{12}$ should result in the smallest value. The results show this as well.\n",
    "\n",
    "$$ \\\\* $$\n",
    "\n",
    "Calculating upperbounds for error functions, when $x = 1$:\n",
    "\n",
    " $$ err_4 = \\frac{3}{(4+1)!} = 2.5 * 10^{-2}$$\n",
    "$$ err_8 = \\frac{3}{(8+1)!} = 8.26719 * 10^{-6} $$\n",
    "$$ err_{12} = \\frac{3}{(12+1)!} = 4.8177132 * 10^{-10} $$\n"
   ]
  }
 ],
 "metadata": {
  "anaconda-cloud": {},
  "kernelspec": {
   "display_name": "Python [Root]",
   "language": "python",
   "name": "Python [Root]"
  },
  "language_info": {
   "codemirror_mode": {
    "name": "ipython",
    "version": 3
   },
   "file_extension": ".py",
   "mimetype": "text/x-python",
   "name": "python",
   "nbconvert_exporter": "python",
   "pygments_lexer": "ipython3",
   "version": "3.5.2"
  }
 },
 "nbformat": 4,
 "nbformat_minor": 0
}
