{
 "cells": [
  {
   "cell_type": "markdown",
   "metadata": {},
   "source": [
    "# Project 1 B"
   ]
  },
  {
   "cell_type": "code",
   "execution_count": 3,
   "metadata": {
    "collapsed": false
   },
   "outputs": [
    {
     "name": "stdout",
     "output_type": "stream",
     "text": [
      "Populating the interactive namespace from numpy and matplotlib\n"
     ]
    }
   ],
   "source": [
    "%pylab inline"
   ]
  },
  {
   "cell_type": "markdown",
   "metadata": {},
   "source": [
    "## Part B Objective"
   ]
  },
  {
   "cell_type": "markdown",
   "metadata": {},
   "source": [
    "Use Forward Finite Diffrence Approximation's to appoximate derivitives on a computer:\n",
    "\n",
    "$$ d^+_{dp}f(a) = \\frac{fl_{dp}(a + h) - fl_{dp}(a)}{h} $$\n",
    "\n",
    "$$ d^+_{dp}f(a) \\approx f'(x)$$\n",
    "\n",
    "$$ d^+_{dp}f(a) = f'(x)$$\n",
    "\n",
    "as ${n\\to\\infty} $, where $h = 2^{-n} $\n",
    "\n",
    "\n",
    "\n",
    "\n",
    "\n",
    "Observe how the relitive error $ r = \\frac{f'(a) - d^+_{dp}f(a)}{f'(a)} $ and its upper bound $ R = c_1h + c_2\\frac{1}{h}$ change with h and n. noting that the smallest value a $fl_{dp}$ (double precision floating point) can hold is $2^{-52}$, represented as $ \\epsilon_{dp} = 2^{52}$\n",
    "\n",
    "where $ c_1 = \\left| \\, \\frac{f''(a)}{2f'(a)} \\, \\right|, \\, c_2 = \\left| \\, \\frac{f(a)*\\epsilon_{dp}}{f'(a)} \\, \\right| $"
   ]
  },
  {
   "cell_type": "code",
   "execution_count": null,
   "metadata": {
    "collapsed": true
   },
   "outputs": [],
   "source": [
    "# %load Makefile\n",
    "# %load Makefile\n",
    "#############################################################\n",
    "######\n",
    "# Makefile for project 1\n",
    "# Laurence Brown\n",
    "# SMU Mathematics\n",
    "# Math 3316\n",
    "# 9/14/2015\n",
    "#############################################################\n",
    "######\n",
    "# compiler & flags\n",
    "CXX = g++\n",
    "CXXFLAGS = -O -std=c++0x\n",
    "# makefile targets\n",
    "#proj1_a.exe\t:\tproj1_a.cpp\n",
    "#proj1_b.exe\t:\tproj1_b.cpp\n",
    "\n",
    "all:\n",
    "\t$(CXX) $(CXXFLAGS) proj1_a.cpp -o proj1_a.exe\n",
    "\t$(CXX) $(CXXFLAGS) proj1_b.cpp -o proj1_b.exe\n",
    "\n",
    "clean :\n",
    "\trm -f *.exe *.txt\n",
    "####### End of Makefile #######"
   ]
  },
  {
   "cell_type": "code",
   "execution_count": 46,
   "metadata": {
    "collapsed": false
   },
   "outputs": [
    {
     "name": "stdout",
     "output_type": "stream",
     "text": [
      "#include <vector>\r\n",
      "#include <stdlib.h> /* abs */\r\n",
      "#include <cmath> /* pow */\r\n",
      "#include <algorithm>  /* reverse */\r\n",
      "#include <iostream>\r\n",
      "#include <string>\r\n",
      "#include <fstream>\r\n",
      "\r\n",
      "using namespace std;\r\n",
      "\r\n",
      "//variables:\r\n",
      "\t//smallest machine number\r\n",
      "const double error_dp = pow(2,-52);\r\n",
      "\r\n",
      "//computer estimates for functions f(x) = x^-3, f'(x), f''(x). \r\n",
      "\t//*used as actual values for error calculations\r\n",
      "double f(double x)\r\n",
      "\t{\treturn pow(x,-3);\t\t\t}\r\n",
      "\r\n",
      "double df(double x)\r\n",
      "\t{\treturn -3 * pow(x,-4);\t\t}\r\n",
      "\r\n",
      "double ddf(double x)\r\n",
      "\t{\treturn 12 * pow(x,-5);\t\t}\r\n",
      "\r\n",
      "//computer estimates for functions f(x) = x^^-3, f'(x), f''(x). using\r\n",
      "\t//using the forward diffrence approximation method.\r\n",
      "double df_fda(double x, double h)\r\n",
      "\t{\treturn (f(x + h) - f(x)) / h;\t}\r\n",
      "\r\n",
      "//computer estimates for relitive error, r ,  of df_fda(x)\r\n",
      "double r(double x, double  h)\r\n",
      "\t{\treturn abs( (df(x) - df_fda(x, h)) / f(x) );\t}\r\n",
      "\r\n",
      "//c1 and c2 for next formula\r\n",
      "\r\n",
      "double c1(double x)\r\n",
      "\t{\treturn abs( ddf(x) / (2.0 * df(x)) );\t}\r\n",
      "\r\n",
      "double c2(double x, double h)\r\n",
      "{\treturn abs( ( f(x) * error_dp ) / df(x) );\t\t}\r\n",
      "\t//{\treturn abs( df_fda(x, h) / df(x) );\t\t}\r\n",
      "\r\n",
      "//computer esimates for upperbound of r, R, of df_fda(x)\r\n",
      "double R(double x, double h)\r\n",
      "\t{\treturn abs( (c1(x) * h) + ( c2(x,h) * (1.0/h) ) );\t}\r\n",
      "\r\n",
      "//h = 2^-n , n = {1,2,3..52}\r\n",
      "double h(double n)\r\n",
      "\t{\treturn pow(2,-n);\t}\r\n",
      "\r\n",
      "//returns a vector of n values\r\n",
      "std::vector<double> n_v(size_t max){\r\n",
      "\tstd::vector<double> answers;\r\n",
      "\tfor (size_t i = 1; i <= max; i++)\r\n",
      "\t\tanswers.push_back(i);\r\n",
      "\treturn answers;\r\n",
      "}\r\n",
      "\r\n",
      "//returns a vector of h values\r\n",
      "std::vector<double> h_v(std::vector<double> n_v){\r\n",
      "\tstd::vector<double> answers;\r\n",
      "\tfor (int i=0; i<n_v.size(); i++)\r\n",
      "\t\tanswers.push_back(h(n_v[i]));\r\n",
      "\treturn answers;\r\n",
      "}\r\n",
      "\r\n",
      "//returns a vector of r values\r\n",
      "std::vector<double> r_v(double x, std::vector<double> h_v){\r\n",
      "\tstd::vector<double> answers;\r\n",
      "\tfor (int i=0; i<h_v.size(); i++)\r\n",
      "\t\tanswers.push_back(r(x,h_v[i]));\r\n",
      "\treturn answers;\r\n",
      "}\r\n",
      "\r\n",
      "//returns a vector of R values\r\n",
      "std::vector<double> R_v(double x, std::vector<double> h_v){\r\n",
      "\tstd::vector<double> answers;\r\n",
      "\tfor (int i=0; i<h_v.size(); i++)\r\n",
      "\t\tanswers.push_back(R(x,h_v[i]));\r\n",
      "\treturn answers;\r\n",
      "}\r\n",
      "\r\n",
      "//write a vector to a file\r\n",
      "int write(std::vector<double> v, const char *outfile) { \r\n",
      "\r\n",
      "  // open output file\r\n",
      "  FILE *fptr = NULL;\r\n",
      "  fptr = fopen(outfile, \"w\");\r\n",
      "  if (fptr == NULL) {\r\n",
      "    cerr << \"Write:: error, unable to open \" << outfile << \" for writing\\n\";\r\n",
      "    return 1;\r\n",
      "  }\r\n",
      "\r\n",
      "  // print data to file\r\n",
      "  for (size_t i=0; i<v.size(); i++) {\r\n",
      "      fprintf(fptr, \"  %.16g\", v[i]);\r\n",
      "  }\r\n",
      "\r\n",
      "  // close output file and return\r\n",
      "  fclose(fptr);\r\n",
      "  return 0;\r\n",
      "}\r\n",
      "\r\n",
      "//main function\r\n",
      "int main(){\r\n",
      "\r\n",
      "\t//compute n,h,r,R vectors with a =3, \r\n",
      "\t\t//and write them to a file with corresponding name.txt extenstion:\r\n",
      "\tconst double a = 3;\r\n",
      "\r\n",
      "\t//n\r\n",
      "\tstd::vector<double> n = n_v(52);\r\n",
      "\twrite(n, \"n.txt\");\r\n",
      "\r\n",
      "\t//h\r\n",
      "\tstd::vector<double> h = h_v(n);\r\n",
      "\twrite(h, \"h.txt\");\r\n",
      "\r\n",
      "\t//r\r\n",
      "\tstd::vector<double> r = r_v(a, h);\r\n",
      "\twrite(r, \"r.txt\");\r\n",
      "\r\n",
      "\t//R\r\n",
      "\tstd::vector<double> R = R_v(a, h);\r\n",
      "\twrite(R, \"R_ub.txt\");\r\n",
      "\r\n",
      "\t//end program\r\n",
      "\treturn 1;\r\n",
      "}\r\n",
      "\r\n"
     ]
    }
   ],
   "source": [
    "%cat proj1_b.cpp"
   ]
  },
  {
   "cell_type": "code",
   "execution_count": 25,
   "metadata": {
    "collapsed": false
   },
   "outputs": [],
   "source": [
    "n = loadtxt('n.txt')\n",
    "h = loadtxt('h.txt')\n",
    "r = loadtxt('r.txt')\n",
    "R = loadtxt('R_ub.txt')"
   ]
  },
  {
   "cell_type": "code",
   "execution_count": 42,
   "metadata": {
    "collapsed": false
   },
   "outputs": [
    {
     "data": {
      "text/plain": [
       "<matplotlib.legend.Legend at 0x112513eb8>"
      ]
     },
     "execution_count": 42,
     "metadata": {},
     "output_type": "execute_result"
    },
    {
     "data": {
      "image/png": "[encoded data removed]",
      "text/plain": [
       "<matplotlib.figure.Figure at 0x111a039b0>"
      ]
     },
     "metadata": {},
     "output_type": "display_data"
    }
   ],
   "source": [
    "loglog(h,r, '-b')\n",
    "loglog(h,R, ':r')\n",
    "xlabel('h')\n",
    "ylabel(\"error\")\n",
    "title('$error(h)$')\n",
    "legend(('${relative \\, error}$', '${error \\, upper \\, bound}$'))"
   ]
  },
  {
   "cell_type": "code",
   "execution_count": 40,
   "metadata": {
    "collapsed": false
   },
   "outputs": [
    {
     "data": {
      "text/plain": [
       "<matplotlib.legend.Legend at 0x111d27b70>"
      ]
     },
     "execution_count": 40,
     "metadata": {},
     "output_type": "execute_result"
    },
    {
     "data": {
      "image/png": "[encoded data removed]",
      "text/plain": [
       "<matplotlib.figure.Figure at 0x111649a90>"
      ]
     },
     "metadata": {},
     "output_type": "display_data"
    }
   ],
   "source": [
    "loglog(n,r,'-b')\n",
    "loglog(n,R,':r')\n",
    "xlabel('n')\n",
    "ylabel(\"error\")\n",
    "title('$error(n)$')\n",
    "legend(('${relative \\, error}$', '${error \\, upper \\, bound}$'))"
   ]
  },
  {
   "cell_type": "markdown",
   "metadata": {},
   "source": [
    "### List of Equations used:"
   ]
  },
  {
   "cell_type": "markdown",
   "metadata": {},
   "source": [
    "$$ d^+_{dp}f(a) = \\frac{fl_{dp}(a + h) - fl_{dp}(a)}{h} $$\n",
    "\n",
    "$$ \\epsilon_{dp} = 2^{52} , \\, c_1 = \\left| \\, \\frac{f''(a)}{2f'(a)} \\, \\right|, \\, c_2 = \\left| \\, \\frac{f(a)*\\epsilon_{dp}}{f'(a)} \\, \\right| $$\n",
    "\n",
    "$$ \\\\* $$\n",
    "\n",
    "$$ h = 2^{-n} $$\n",
    "\n",
    "$$ r = \\frac{f'(a) - d^+_{dp}f(a)}{f'(a)} $$\n",
    "\n",
    "$$ R = c_1h + c_2\\frac{1}{h} , $$\n"
   ]
  },
  {
   "cell_type": "markdown",
   "metadata": {},
   "source": [
    "# Part B Results"
   ]
  },
  {
   "cell_type": "markdown",
   "metadata": {},
   "source": [
    "As expected as h decreases r and R decrease, and as n increases r and R decrease, but only up until a point. At very small values the error again begins to increase, this is most likley due to underflow rounding errors that occur in the machines operations and machine representation of real numbers."
   ]
  }
 ],
 "metadata": {
  "anaconda-cloud": {},
  "kernelspec": {
   "display_name": "Python [Root]",
   "language": "python",
   "name": "Python [Root]"
  },
  "language_info": {
   "codemirror_mode": {
    "name": "ipython",
    "version": 3
   },
   "file_extension": ".py",
   "mimetype": "text/x-python",
   "name": "python",
   "nbconvert_exporter": "python",
   "pygments_lexer": "ipython3",
   "version": "3.5.2"
  }
 },
 "nbformat": 4,
 "nbformat_minor": 0
}
